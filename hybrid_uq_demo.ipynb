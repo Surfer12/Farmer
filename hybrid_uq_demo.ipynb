import torch
import torch.nn as nn
import torch.nn.functional as F
import numpy as np
import matplotlib.pyplot as plt
from typing import Dict, Optional

# Set random seeds for reproducibility
torch.manual_seed(42)
np.random.seed(42)# Hybrid AI-Physics UQ: Actionable Recipe & Implementation

This notebook demonstrates the hybrid AI-physics uncertainty quantification system with:
- **Hybrid output**: $O(\alpha) = \alpha S(x) + (1-\alpha) N(x)$
- **Penalty system**: $\mathrm{pen} = \exp(-[\lambda_1 R_{\mathrm{cog}} + \lambda_2 R_{\mathrm{eff}}])$
- **Calibrated posterior**: $\mathrm{post} = \min\{\beta \cdot P(H|E), 1\}$
- **Confidence metric**: $\Psi(x) = O(\alpha) \cdot \mathrm{pen} \cdot \mathrm{post} \in [0,1]$