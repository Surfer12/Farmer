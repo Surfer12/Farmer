{
 "cells": [
  {
   "cell_type": "markdown",
   "metadata": {},
   "source": [
    "# PyTorch Day 1: Tensors and Basic Operations\n",
    "\n",
    "Learn PyTorch fundamentals while working with your Farmer project components."
   ]
  },
  {
   "cell_type": "code",
   "execution_count": null,
   "metadata": {},
   "outputs": [],
   "source": [
    "import torch\n",
    "import numpy as np\n",
    "import sys\n",
    "sys.path.append('..')\n",
    "from python.enhanced_psi_minimal import EnhancedPsiFramework\n",
    "\n",
    "print(f\"PyTorch version: {torch.__version__}\")\n",
    "print(f\"CUDA available: {torch.cuda.is_available()}\")"
   ]
  },
  {
   "cell_type": "markdown",
   "metadata": {},
   "source": [
    "## 1. Creating Tensors\n",
    "\n",
    "Learn different ways to create tensors - the fundamental data structure in PyTorch."
   ]
  },
  {
   "cell_type": "code",
   "execution_count": null,
   "metadata": {},
   "outputs": [],
   "source": [
    "# Different ways to create tensors\n",
    "tensor_from_list = torch.tensor([1.0, 2.0, 3.0])\n",
    "tensor_zeros = torch.zeros(3, 4)\n",
    "tensor_ones = torch.ones(2, 3)\n",
    "tensor_random = torch.randn(2, 3)  # Normal distribution\n",
    "tensor_uniform = torch.rand(2, 3)  # Uniform [0, 1)\n",
    "\n",
    "print(\"From list:\", tensor_from_list)\n",
    "print(\"Zeros shape:\", tensor_zeros.shape)\n",
    "print(\"Random normal:\\n\", tensor_random)\n",
    "print(\"Random uniform:\\n\", tensor_uniform)"
   ]
  },
  {
   "cell_type": "markdown",
   "metadata": {},
   "source": [
    "## 2. Tensor Operations\n",
    "\n",
    "Basic operations that you'll use constantly in neural networks."
   ]
  },
  {
   "cell_type": "code",
   "execution_count": null,
   "metadata": {},
   "outputs": [],
   "source": [
    "# Basic operations\n",
    "a = torch.tensor([1.0, 2.0, 3.0])\n",
    "b = torch.tensor([4.0, 5.0, 6.0])\n",
    "\n",
    "# Element-wise operations\n",
    "print(\"Addition:\", a + b)\n",
    "print(\"Multiplication:\", a * b)\n",
    "print(\"Power:\", a ** 2)\n",
    "\n",
    "# Matrix operations\n",
    "matrix_a = torch.randn(3, 4)\n",
    "matrix_b = torch.randn(4, 2)\n",
    "result = torch.mm(matrix_a, matrix_b)  # Matrix multiplication\n",
    "print(\"Matrix multiplication shape:\", result.shape)"
   ]
  },
  {
   "cell_type": "markdown",
   "metadata": {},
   "source": [
    "## 3. Automatic Differentiation\n",
    "\n",
    "The magic behind neural network training - automatic gradient computation."
   ]
  },
  {
   "cell_type": "code",
   "execution_count": null,
   "metadata": {},
   "outputs": [],
   "source": [
    "# Enable gradient computation\n",
    "x = torch.tensor(2.0, requires_grad=True)\n",
    "y = x ** 3 + 2 * x ** 2 + x + 1\n",
    "\n",
    "print(f\"x = {x.item()}\")\n",
    "print(f\"y = x³ + 2x² + x + 1 = {y.item()}\")\n",
    "\n",
    "# Compute gradient\n",
    "y.backward()\n",
    "print(f\"dy/dx = 3x² + 4x + 1 = {x.grad.item()}\")\n",
    "print(f\"Expected: 3(2)² + 4(2) + 1 = {3*4 + 8 + 1}\")"
   ]
  },
  {
   "cell_type": "markdown",
   "metadata": {},
   "source": [
    "## 4. Integration with Farmer Project\n",
    "\n",
    "Apply PyTorch concepts to your existing Farmer components."
   ]
  },
  {
   "cell_type": "code",
   "execution_count": null,
   "metadata": {},
   "outputs": [],
   "source": [
    "# Initialize Farmer framework\n",
    "framework = EnhancedPsiFramework()\n",
    "\n",
    "# Generate some test data\n",
    "test_contents = [\n",
    "    \"Mathematical analysis with differential equations\",\n",
    "    \"Neural network optimization and backpropagation\",\n",
    "    \"Physics-informed neural networks for PDEs\",\n",
    "    \"Symbolic computation and computer algebra\",\n",
    "    \"Hybrid symbolic-neural reasoning systems\"\n",
    "]\n",
    "\n",
    "# Compute Ψ(x) for each content\n",
    "results = []\n",
    "for i, content in enumerate(test_contents):\n",
    "    result = framework.compute_enhanced_psi(content, 'md', t=float(i))\n",
    "    results.append([\n",
    "        result['S_x'],      # Symbolic accuracy\n",
    "        result['N_x'],      # Neural accuracy  \n",
    "        result['alpha_t'],  # Adaptive weight\n",
    "        result['psi_final'] # Final Ψ(x)\n",
    "    ])\n",
    "\n",
    "# Convert to PyTorch tensor\n",
    "results_tensor = torch.tensor(results)\n",
    "print(\"Results tensor shape:\", results_tensor.shape)\n",
    "print(\"\\nResults tensor:\")\n",
    "print(results_tensor)"
   ]
  },
  {
   "cell_type": "code",
   "execution_count": null,
   "metadata": {},
   "outputs": [],
   "source": [
    "# Analyze the data with PyTorch operations\n",
    "symbolic_acc = results_tensor[:, 0]\n",
    "neural_acc = results_tensor[:, 1]\n",
    "adaptive_weights = results_tensor[:, 2]\n",
    "psi_values = results_tensor[:, 3]\n",
    "\n",
    "print(\"Statistical Analysis:\")\n",
    "print(f\"Mean Ψ(x): {psi_values.mean().item():.4f}\")\n",
    "print(f\"Std Ψ(x): {psi_values.std().item():.4f}\")\n",
    "print(f\"Max Ψ(x): {psi_values.max().item():.4f}\")\n",
    "print(f\"Min Ψ(x): {psi_values.min().item():.4f}\")\n",
    "\n",
    "print(f\"\\nMean symbolic accuracy: {symbolic_acc.mean().item():.4f}\")\n",
    "print(f\"Mean neural accuracy: {neural_acc.mean().item():.4f}\")\n",
    "print(f\"Mean adaptive weight: {adaptive_weights.mean().item():.4f}\")"
   ]
  },
  {
   "cell_type": "markdown",
   "metadata": {},
   "source": [
    "## 5. Your First Neural Network\n",
    "\n",
    "Create a simple network to predict Ψ(x) values from content features."
   ]
  },
  {
   "cell_type": "code",
   "execution_count": null,
   "metadata": {},
   "outputs": [],
   "source": [
    "import torch.nn as nn\n",
    "\n",
    "class PsiPredictor(nn.Module):\n",
    "    def __init__(self, input_size=3, hidden_size=10, output_size=1):\n",
    "        super(PsiPredictor, self).__init__()\n",
    "        self.fc1 = nn.Linear(input_size, hidden_size)\n",
    "        self.relu = nn.ReLU()\n",
    "        self.fc2 = nn.Linear(hidden_size, output_size)\n",
    "        self.sigmoid = nn.Sigmoid()\n",
    "    \n",
    "    def forward(self, x):\n",
    "        x = self.fc1(x)\n",
    "        x = self.relu(x)\n",
    "        x = self.fc2(x)\n",
    "        x = self.sigmoid(x)\n",
    "        return x\n",
    "\n",
    "# Create model\n",
    "model = PsiPredictor(input_size=3, hidden_size=10, output_size=1)\n",
    "print(\"Model architecture:\")\n",
    "print(model)\n",
    "\n",
    "# Test with sample input (symbolic_acc, neural_acc, adaptive_weight)\n",
    "sample_input = results_tensor[:, :3]  # First 3 columns\n",
    "predictions = model(sample_input)\n",
    "\n",
    "print(f\"\\nInput shape: {sample_input.shape}\")\n",
    "print(f\"Predictions shape: {predictions.shape}\")\n",
    "print(f\"Sample predictions: {predictions.squeeze().detach().numpy()}\")"
   ]
  },
  {
   "cell_type": "markdown",
   "metadata": {},
   "source": [
    "## Next Steps\n",
    "\n",
    "1. **Tomorrow**: Learn about training loops and optimization\n",
    "2. **Day 3**: Implement loss functions specific to your Farmer project\n",
    "3. **Day 4**: Create a more sophisticated model for Ψ(x) prediction\n",
    "\n",
    "## Exercises\n",
    "\n",
    "Try these on your own:\n",
    "1. Create a tensor of your Ψ(x) results and compute correlations\n",
    "2. Implement a simple linear regression to predict Ψ(x) from content length\n",
    "3. Experiment with different activation functions in the PsiPredictor"
   ]
  }
 ],
 "metadata": {
  "kernelspec": {
   "display_name": "Python 3",
   "language": "python",
   "name": "python3"
  },
  "language_info": {
   "codemirror_mode": {
    "name": "ipython",
    "version": 3
   },
   "file_extension": ".py",
   "mimetype": "text/x-python",
   "name": "python",
   "nbconvert_exporter": "python",
   "pygments_lexer": "ipython3",
   "version": "3.9.6"
  }
 },
 "nbformat": 4,
 "nbformat_minor": 4
}
